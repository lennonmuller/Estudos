{
 "cells": [
  {
   "cell_type": "code",
   "execution_count": 1,
   "id": "ca57cfe7-1726-49f6-8824-b24b5f71f85d",
   "metadata": {},
   "outputs": [
    {
     "data": {
      "text/plain": [
       "{'Frutaria': [{'Fruta': [{'Nome': 'Ananas', 'Quantidade': 10},\n",
       "    {'Nome': 'Pera', 'Quantidade': 20},\n",
       "    {'Nome': 'Laranja', 'Quantidade': 30}]},\n",
       "  {'Verdura': [{'Nome': 'Alface', 'Quantidade': 80},\n",
       "    {'Nome': 'Tomate', 'Quantidade': 15},\n",
       "    {'Nome': 'Pepino', 'Quantidade': 50}]}]}"
      ]
     },
     "execution_count": 1,
     "metadata": {},
     "output_type": "execute_result"
    }
   ],
   "source": [
    "{\n",
    "    \"Frutaria\": [\n",
    "        {\n",
    "            \"Fruta\" : [\n",
    "                {\n",
    "                    \"Nome\": \"Ananas\",\n",
    "                    \"Quantidade\" : 10\n",
    "                },\n",
    "                {\n",
    "                    \"Nome\": \"Pera\",\n",
    "                    \"Quantidade\": 20\n",
    "                },\n",
    "                {\n",
    "                    \"Nome\": \"Laranja\",\n",
    "                    \"Quantidade\":30\n",
    "                }\n",
    "            ]\n",
    "        },\n",
    "        {\n",
    "            \"Verdura\": [\n",
    "                {\n",
    "                    \"Nome\": \"Alface\",\n",
    "                    \"Quantidade\": 80\n",
    "                },\n",
    "                {\n",
    "                    \"Nome\": \"Tomate\",\n",
    "                    \"Quantidade\":15\n",
    "                },\n",
    "                {\n",
    "                    \"Nome\":\"Pepino\",\n",
    "                    \"Quantidade\":50\n",
    "                }\n",
    "            ]\n",
    "        }\n",
    "    ]\n",
    "}"
   ]
  },
  {
   "cell_type": "code",
   "execution_count": 2,
   "id": "2ebe74fc-e1b6-4d1b-9d71-fb8ea6a6e69d",
   "metadata": {},
   "outputs": [],
   "source": [
    "import json"
   ]
  },
  {
   "cell_type": "code",
   "execution_count": 3,
   "id": "22015706-f340-4f47-b62f-68a329168138",
   "metadata": {},
   "outputs": [
    {
     "name": "stdout",
     "output_type": "stream",
     "text": [
      "{'Nome': 'Maça', 'Quantidade': 10}\n",
      "{'Nome': 'Pera', 'Quantidade': 20}\n",
      "{'Nome': 'Laranja', 'Quantidade': 30}\n",
      "{'Nome': 'Cenoura', 'Quantidade': 80}\n",
      "{'Nome': 'Tomate', 'Quantidade': 15}\n",
      "{'Nome': 'Pepino', 'Quantidade': 50}\n"
     ]
    }
   ],
   "source": [
    "# Opção 1 (iniciação): Criação das estruturas pouco a pouco. Vamos de dentro para fora\n",
    "# Dicionario das frutas\n",
    "dicc_frutas_1 = {\n",
    "    \"Nome\": \"Maça\",\n",
    "    \"Quantidade\": 10\n",
    "}\n",
    "print(dicc_frutas_1)\n",
    "dicc_frutas_2 = {\n",
    "    \"Nome\": \"Pera\",\n",
    "    \"Quantidade\": 20\n",
    "}\n",
    "print(dicc_frutas_2)\n",
    "dicc_frutas_3 = {\n",
    "    \"Nome\":\"Laranja\",\n",
    "    \"Quantidade\":30\n",
    "}\n",
    "print(dicc_frutas_3)\n",
    "#Dicionario de verduras\n",
    "dicc_verduras_1 ={\n",
    "    \"Nome\": \"Cenoura\",\n",
    "    \"Quantidade\":80\n",
    "}\n",
    "print(dicc_verduras_1)\n",
    "dicc_verduras_2 ={\n",
    "    \"Nome\":\"Tomate\",\n",
    "    \"Quantidade\":15\n",
    "}\n",
    "print(dicc_verduras_2)\n",
    "dicc_verduras_3 = {\n",
    "    \"Nome\":\"Pepino\",\n",
    "    \"Quantidade\":50\n",
    "}\n",
    "print(dicc_verduras_3)"
   ]
  },
  {
   "cell_type": "code",
   "execution_count": 5,
   "id": "4492c244-a222-461f-b634-52c112be006a",
   "metadata": {},
   "outputs": [
    {
     "name": "stdout",
     "output_type": "stream",
     "text": [
      "[{'Nome': 'Maça', 'Quantidade': 10}, {'Nome': 'Pera', 'Quantidade': 20}, {'Nome': 'Laranja', 'Quantidade': 30}]\n",
      "[{'Nome': 'Cenoura', 'Quantidade': 80}, {'Nome': 'Tomate', 'Quantidade': 15}, {'Nome': 'Pepino', 'Quantidade': 50}]\n"
     ]
    }
   ],
   "source": [
    "# Lista de Frutas: Contém o dicionario de frutas\n",
    "lista_frutas = [dicc_frutas_1, dicc_frutas_2, dicc_frutas_3]\n",
    "print(lista_frutas)\n",
    "\n",
    "#Lista de Verduras: Contém o dicionário de Verduras\n",
    "lista_verduras = [dicc_verduras_1, dicc_verduras_2, dicc_verduras_3]\n",
    "print(lista_verduras)"
   ]
  },
  {
   "cell_type": "code",
   "execution_count": 6,
   "id": "dd0688d9-3385-4a54-a732-1fd7a19019a5",
   "metadata": {},
   "outputs": [
    {
     "name": "stdout",
     "output_type": "stream",
     "text": [
      "{'Frutas': [{'Nome': 'Maça', 'Quantidade': 10}, {'Nome': 'Pera', 'Quantidade': 20}, {'Nome': 'Laranja', 'Quantidade': 30}], 'Verduras': [{'Nome': 'Cenoura', 'Quantidade': 80}, {'Nome': 'Tomate', 'Quantidade': 15}, {'Nome': 'Pepino', 'Quantidade': 50}]}\n"
     ]
    }
   ],
   "source": [
    "dicc_frutas_verduras = {\n",
    "    \"Frutas\" : lista_frutas,\n",
    "    \"Verduras\" : lista_verduras\n",
    "}\n",
    "print(dicc_frutas_verduras)"
   ]
  },
  {
   "cell_type": "code",
   "execution_count": 7,
   "id": "2dc470dc-84dd-4ab5-8db6-3e5f459436e7",
   "metadata": {},
   "outputs": [
    {
     "name": "stdout",
     "output_type": "stream",
     "text": [
      "{'Frutaria': {'Frutas': [{'Nome': 'Maça', 'Quantidade': 10}, {'Nome': 'Pera', 'Quantidade': 20}, {'Nome': 'Laranja', 'Quantidade': 30}], 'Verduras': [{'Nome': 'Cenoura', 'Quantidade': 80}, {'Nome': 'Tomate', 'Quantidade': 15}, {'Nome': 'Pepino', 'Quantidade': 50}]}}\n"
     ]
    }
   ],
   "source": [
    "dicc_frutaria = {\n",
    "    \"Frutaria\" : dicc_frutas_verduras\n",
    "}\n",
    "print(dicc_frutaria)"
   ]
  },
  {
   "cell_type": "code",
   "execution_count": 9,
   "id": "52c2feda-9171-4a43-8faf-68fa2551c283",
   "metadata": {},
   "outputs": [
    {
     "name": "stdout",
     "output_type": "stream",
     "text": [
      "Tipo de dados: <class 'dict'>\n",
      "\n",
      "Dados em estrutura de dados de Python (dicionario): \n",
      "\n",
      "{'Frutaria': [{'Fruta': [{'Nome': 'Maça', 'Quantidade': 10}, {'Nome': 'Pera', 'Quantidade': 20}, {'Nome': 'Laranja', 'Quantidade': 30}], 'Verduras': [{'Nome': 'Cenoura', 'Quantidade': 80}, {'Nome': 'Tomate', 'Quantidade': 15}, {'Nome': 'Pepino', 'Quantidade': 50}]}]}\n"
     ]
    }
   ],
   "source": [
    "#Opção 2 (avançada): Criar a estrutura diretamente\n",
    "dicc_frutaria = {\"Frutaria\": [{\"Fruta\": [{'Nome': 'Maça', 'Quantidade': 10}, {'Nome': 'Pera', 'Quantidade': 20}, {'Nome': 'Laranja', 'Quantidade': 30}], 'Verduras': [{'Nome': 'Cenoura', 'Quantidade': 80}, {'Nome': 'Tomate', 'Quantidade': 15}, {'Nome': 'Pepino', 'Quantidade': 50}]}]}\n",
    "\n",
    "#Imprimimos o tipo e os dados\n",
    "print(\"Tipo de dados:\", type(dicc_frutaria))\n",
    "print(\"\\nDados em estrutura de dados de Python (dicionario): \\n\")\n",
    "print(dicc_frutaria)"
   ]
  },
  {
   "cell_type": "code",
   "execution_count": 10,
   "id": "d75a30c1-9420-4f1f-be8d-d4eb16842952",
   "metadata": {},
   "outputs": [
    {
     "name": "stdout",
     "output_type": "stream",
     "text": [
      "Tipo de dados <class 'str'>\n",
      "\n",
      "Dados em JSON:\n",
      "\n",
      "{\"Frutaria\": [{\"Fruta\": [{\"Nome\": \"Ma\\u00e7a\", \"Quantidade\": 10}, {\"Nome\": \"Pera\", \"Quantidade\": 20}, {\"Nome\": \"Laranja\", \"Quantidade\": 30}], \"Verduras\": [{\"Nome\": \"Cenoura\", \"Quantidade\": 80}, {\"Nome\": \"Tomate\", \"Quantidade\": 15}, {\"Nome\": \"Pepino\", \"Quantidade\": 50}]}]}\n"
     ]
    }
   ],
   "source": [
    "# Devolvemos a string com o JSON\n",
    "json_frutaria = json.dumps(dicc_frutaria)\n",
    "\n",
    "print(\"Tipo de dados\", type(json_frutaria))\n",
    "print(\"\\nDados em JSON:\\n\")\n",
    "print(json_frutaria)"
   ]
  },
  {
   "cell_type": "code",
   "execution_count": 11,
   "id": "7caaecac-7126-4b5a-87ae-8bace4fcb27d",
   "metadata": {},
   "outputs": [
    {
     "name": "stdout",
     "output_type": "stream",
     "text": [
      "Tipo de dados <class 'str'>\n",
      "Dados em JSON:\n",
      "\n",
      "{\"Frutaria\": [{\"Fruta\": [{\"Nome\": \"Ma\\u00e7a\", \"Quantidade\": 10}, {\"Nome\": \"Pera\", \"Quantidade\": 20}, {\"Nome\": \"Laranja\", \"Quantidade\": 30}], \"Verduras\": [{\"Nome\": \"Cenoura\", \"Quantidade\": 80}, {\"Nome\": \"Tomate\", \"Quantidade\": 15}, {\"Nome\": \"Pepino\", \"Quantidade\": 50}]}]}\n",
      "\n",
      "Tipo de dados <class 'dict'>\n",
      "Dados da estrutura de dados de Python (dicionarios):\n",
      "\n",
      "{'Frutaria': [{'Fruta': [{'Nome': 'Maça', 'Quantidade': 10}, {'Nome': 'Pera', 'Quantidade': 20}, {'Nome': 'Laranja', 'Quantidade': 30}], 'Verduras': [{'Nome': 'Cenoura', 'Quantidade': 80}, {'Nome': 'Tomate', 'Quantidade': 15}, {'Nome': 'Pepino', 'Quantidade': 50}]}]}\n"
     ]
    }
   ],
   "source": [
    "# Dispomos do json_frutaria o qual contém a informação do formato JSON\n",
    "print(\"Tipo de dados\", type(json_frutaria))\n",
    "print(\"Dados em JSON:\\n\")\n",
    "print(json_frutaria)\n",
    "\n",
    "f_dict = json.loads(json_frutaria)\n",
    "print(\"\\nTipo de dados\", type(f_dict))\n",
    "print(\"Dados da estrutura de dados de Python (dicionarios):\\n\")\n",
    "print(f_dict)"
   ]
  },
  {
   "cell_type": "code",
   "execution_count": null,
   "id": "4cb68967-119a-41f0-b0c4-10018e053db1",
   "metadata": {},
   "outputs": [],
   "source": []
  }
 ],
 "metadata": {
  "kernelspec": {
   "display_name": "Python 3 (ipykernel)",
   "language": "python",
   "name": "python3"
  },
  "language_info": {
   "codemirror_mode": {
    "name": "ipython",
    "version": 3
   },
   "file_extension": ".py",
   "mimetype": "text/x-python",
   "name": "python",
   "nbconvert_exporter": "python",
   "pygments_lexer": "ipython3",
   "version": "3.12.4"
  }
 },
 "nbformat": 4,
 "nbformat_minor": 5
}
