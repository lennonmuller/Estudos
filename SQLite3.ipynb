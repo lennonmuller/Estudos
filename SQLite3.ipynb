{
 "cells": [
  {
   "cell_type": "raw",
   "id": "f923c7a0-a8f5-4cfd-991e-8836f36eb397",
   "metadata": {},
   "source": [
    "import sqlite3\n",
    "\n",
    "con = sqlite3.connect(\"exemplo.db\")\n",
    "\n",
    "con.close()"
   ]
  },
  {
   "cell_type": "code",
   "execution_count": 1,
   "id": "7d2f8837-e379-49ea-8ed9-824222c60fcb",
   "metadata": {},
   "outputs": [],
   "source": [
    "import sqlite3\n",
    "\n",
    "con = sqlite3.connect(\"exemplo.db\")\n",
    "\n",
    "#criamos o cursor\n",
    "cursor = con.cursor()\n",
    "\n",
    "# Criamos uma tabela \"usuarios\" em SQL\n",
    "cursor.execute(\"CREATE table usuarios (nome VARCHAR(100), idade INTERGER, email VARCHAR(100))\")\n",
    "\n",
    "# Guardamos as alterações com um commit\n",
    "con.commit()\n",
    "\n",
    "con.close()"
   ]
  },
  {
   "cell_type": "code",
   "execution_count": 3,
   "id": "0fdcc7d2-fc82-4e04-a99d-1820d7c38a62",
   "metadata": {},
   "outputs": [],
   "source": [
    "import sqlite3\n",
    "\n",
    "con = sqlite3.connect(\"exemplo.db\")\n",
    "cursor = con.cursor()\n",
    "\n",
    "# Criamos uma nova linha da tabela\n",
    "cursor.execute(\"INSERT INTO usuarios VALUES ('Cristiano Ronaldo', 33, 'cr7@gmail.com')\")\n",
    "\n",
    "#Guardamos as alterações com um commit\n",
    "con.commit()\n",
    "\n",
    "con.close()"
   ]
  },
  {
   "cell_type": "code",
   "execution_count": 4,
   "id": "71982120-113b-4996-8c2a-9f6273e6dae9",
   "metadata": {},
   "outputs": [
    {
     "name": "stdout",
     "output_type": "stream",
     "text": [
      "('Cristiano Ronaldo', 33, 'cr7@gmail.com')\n"
     ]
    }
   ],
   "source": [
    "import sqlite3\n",
    "\n",
    "con = sqlite3.connect(\"exemplo.db\")\n",
    "cursor = con.cursor()\n",
    "\n",
    "#Criamos um select para recolher todas as linhas da tabela\n",
    "cursor.execute(\"SELECT * FROM usuarios\")\n",
    "\n",
    "# Recolhemos o primeiro registro com esse metodo, devolve uma tupla\n",
    "usuario = cursor.fetchone()\n",
    "print(usuario)\n",
    "\n",
    "con.close()"
   ]
  },
  {
   "cell_type": "code",
   "execution_count": 5,
   "id": "30b94fd5-16cc-4294-b3df-427f4e7c3cc9",
   "metadata": {},
   "outputs": [],
   "source": [
    "import sqlite3\n",
    "\n",
    "con = sqlite3.connect(\"exemplo.db\")\n",
    "cursor = con.cursor()\n",
    "\n",
    "# criamos uma lista com varios usuarios\n",
    "usuarios = [('Mario', 51, 'mario@mail.com'),\n",
    "            ('Mercedes', 62, 'mercedes@bla.com'),\n",
    "            ('Joaquim', 19, 'quidin@bol.com')\n",
    "           ]\n",
    "\n",
    "# utilizamos o metodo executemany() para inserir varios\n",
    "cursor.executemany(\"INSERT INTO usuarios VALUES (?,?,?)\", usuarios)\n",
    "\n",
    "# guardamos as modificações com commit\n",
    "con.commit()\n",
    "\n",
    "con.close()"
   ]
  },
  {
   "cell_type": "code",
   "execution_count": 6,
   "id": "dca3d7da-a2b1-405a-ae4b-1ddb2bae5867",
   "metadata": {},
   "outputs": [
    {
     "name": "stdout",
     "output_type": "stream",
     "text": [
      "('Cristiano Ronaldo', 33, 'cr7@gmail.com')\n",
      "('Mario', 51, 'mario@mail.com')\n",
      "('Mercedes', 62, 'mercedes@bla.com')\n",
      "('Joaquim', 19, 'quidin@bol.com')\n"
     ]
    }
   ],
   "source": [
    "import sqlite3\n",
    "\n",
    "con = sqlite3.connect(\"exemplo.db\")\n",
    "cursor = con.cursor()\n",
    "\n",
    "#Criamos um select para recolher todas as linhas da tabela\n",
    "cursor.execute(\"SELECT * FROM usuarios\")\n",
    "\n",
    "#Recolhemos todos os registros com este metodo\n",
    "usuarios = cursor.fetchall()\n",
    "\n",
    "# Agora vamos escolher todos os usuarios\n",
    "for usuario in usuarios:\n",
    "    print(usuario)\n",
    "\n",
    "con.close()"
   ]
  },
  {
   "cell_type": "code",
   "execution_count": null,
   "id": "ae7b8436-f714-46a9-a9b4-0f8254382b86",
   "metadata": {},
   "outputs": [],
   "source": []
  }
 ],
 "metadata": {
  "kernelspec": {
   "display_name": "Python 3 (ipykernel)",
   "language": "python",
   "name": "python3"
  },
  "language_info": {
   "codemirror_mode": {
    "name": "ipython",
    "version": 3
   },
   "file_extension": ".py",
   "mimetype": "text/x-python",
   "name": "python",
   "nbconvert_exporter": "python",
   "pygments_lexer": "ipython3",
   "version": "3.12.4"
  }
 },
 "nbformat": 4,
 "nbformat_minor": 5
}
