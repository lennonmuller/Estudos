{
 "cells": [
  {
   "cell_type": "markdown",
   "metadata": {},
   "source": [
    "## Exercícios Módulo 5. Unidade 3. JSON\n",
    "\n",
    "Considerações a ter em conta:\n",
    "\n",
    "* Guardar este documento com o seguinte formato para entrega: __M5_03_nome_apelido1_apelido2__\n",
    "* Utilizar o Software: Anaconda – Jupyter.\n",
    "* Comentar o código\n",
    "* Utilizar nomes de variáveis apropriados, se vai guardar uma nota, chamar a essa variável nota, não n ou x"
   ]
  },
  {
   "cell_type": "markdown",
   "metadata": {},
   "source": [
    "# Exercício 1"
   ]
  },
  {
   "cell_type": "markdown",
   "metadata": {},
   "source": [
    "#### Criação\n",
    "\n",
    "* Crie um __dicionário__ Python que contenha as seguintes informações sobre a frutaria:\n",
    "    * Uma lista de frutas com o nome e a quantidade de cada fruta.\n",
    "    * Uma lista de legumes com o nome e a quantidade de cada legume.\n",
    "eres)."
   ]
  },
  {
   "cell_type": "raw",
   "metadata": {},
   "source": [
    "\"Frutaria\": {\n",
    "        \"Frutas\": [\n",
    "        ],\n",
    "        \"Legumes\": [\n",
    "        ]\n",
    "}"
   ]
  },
  {
   "cell_type": "markdown",
   "metadata": {},
   "source": [
    "* Utilize o módulo __json__ para:\n",
    "    * Codifique essa estrutura para JSON.\n",
    "    * Salve o JSON em um ficheiro chamado \"__frutaria.json__\".\n",
    "* Após isso, leia o ficheiro \"__frutaria.json__\" e extraia o nome e a quantidade de cada fruta e legume."
   ]
  },
  {
   "cell_type": "code",
   "execution_count": 9,
   "metadata": {},
   "outputs": [
    {
     "name": "stdout",
     "output_type": "stream",
     "text": [
      "Frutas:\n",
      "Nome: Maçã - Quantidade: 10\n",
      "Nome: Banana - Quantidade: 20\n",
      "\n",
      "Legumes:\n",
      "Nome: Cenoura / Quantidade: 15\n",
      "Nome: Batata / Quantidade: 30\n"
     ]
    }
   ],
   "source": [
    "import json\n",
    "\n",
    "# Criando o dicionario\n",
    "frutaria = {\n",
    "    \"Frutaria\": {\n",
    "        \"Frutas\": [\n",
    "            {\"nome\": \"Maçã\", \"quantidade\": 10},\n",
    "            {\"nome\": \"Banana\", \"quantidade\": 20}\n",
    "        ],\n",
    "        \"Legumes\": [\n",
    "            {\"nome\": \"Cenoura\", \"quantidade\": 15},\n",
    "            {\"nome\": \"Batata\", \"quantidade\": 30}\n",
    "        ]\n",
    "    }\n",
    "}\n",
    "\n",
    "#Codificando a estrutura para JSON\n",
    "frutaria_json = json.dumps(frutaria, indent=4)\n",
    "\n",
    "# Salvando o JSON em um ficheiro chamado \"frutaria.json\"\n",
    "with open(\"frutaria.json\", \"w\") as file:\n",
    "    file.write(frutaria_json)\n",
    "\n",
    "# Lendo o ficheiro e extraindo dados\n",
    "with open(\"frutaria.json\", \"r\") as file:\n",
    "    data = json.load(file)\n",
    "    frutas = data[\"Frutaria\"][\"Frutas\"]\n",
    "    legumes = data[\"Frutaria\"][\"Legumes\"]\n",
    "    print(\"Frutas:\")\n",
    "    for fruta in frutas:\n",
    "        print(f'Nome: {fruta[\"nome\"]} - Quantidade: {fruta[\"quantidade\"]}')\n",
    "\n",
    "    print(\"\\nLegumes:\")\n",
    "    for legume in legumes:\n",
    "        print(f'Nome: {legume[\"nome\"]} / Quantidade: {legume[\"quantidade\"]}')\n",
    "        "
   ]
  },
  {
   "cell_type": "markdown",
   "metadata": {},
   "source": [
    "# Exercício 2"
   ]
  },
  {
   "cell_type": "markdown",
   "metadata": {},
   "source": [
    "#### Criação\n",
    "\n",
    "* Crie o JSON a seguir como uma string em Python:\n",
    " \n"
   ]
  },
  {
   "cell_type": "raw",
   "metadata": {},
   "source": [
    "{\n",
    "'marcadores': [{'latitude': 40.416875,\n",
    "   'longitude': -3.703308,\n",
    "   'city': 'Madrid',\n",
    "   'description': 'Puerta del Sol'},\n",
    "  {'latitude': 40.417438,\n",
    "   'longitude': -3.693363,\n",
    "   'city': 'Madrid',\n",
    "   'description': 'Paseo del Prado'},\n",
    "  {'latitude': 40.407015,\n",
    "   'longitude': -3.691163,\n",
    "   'city': 'Madrid',\n",
    "   'description': 'Estación de Atocha'}]\n",
    "}"
   ]
  },
  {
   "cell_type": "markdown",
   "metadata": {},
   "source": [
    "* Utilize  o módulo __json__ para carregar o conteúdo dessa string e transformá-lo em um dicionário Python.\n",
    "* Exiba os dados de maneira legível somente das descrições de cada ponto turístico.\n",
    "* Salve o JSON as informações no ficheiro \"__marcadores.json__\", como: do nome da cidade, latitude e longitude."
   ]
  },
  {
   "cell_type": "code",
   "execution_count": 15,
   "metadata": {},
   "outputs": [
    {
     "name": "stdout",
     "output_type": "stream",
     "text": [
      "Descrições dos pontos turísticos:\n",
      "Cidade: Madrid, Latitude: 40.416875, Longitude: -3.703308, Descrição: Puerta del Sol\n",
      "Cidade: Madrid, Latitude: 40.417438, Longitude: -3.693363, Descrição: Paseo del Prado\n",
      "Cidade: Madrid, Latitude: 40.407015, Longitude: -3.691163, Descrição: Estación de Atocha\n"
     ]
    }
   ],
   "source": [
    "import json\n",
    "\n",
    "#Criando JSON como uma string\n",
    "json_string = ''' {\n",
    "    \"marcadores\": [\n",
    "        {\"latitude\": 40.416875, \"longitude\": -3.703308, \"city\": \"Madrid\", \"description\": \"Puerta del Sol\"}, \n",
    "        {\"latitude\": 40.417438, \"longitude\": -3.693363, \"city\": \"Madrid\", \"description\": \"Paseo del Prado\"}, \n",
    "        {\"latitude\": 40.407015, \"longitude\": -3.691163, \"city\": \"Madrid\", \"description\": \"Estación de Atocha\"}\n",
    "    ]\n",
    "}\n",
    "'''\n",
    "\n",
    "#Carregando os conteudo de string em JSON e transformando em dicionario python\n",
    "marcadores_dict = json.loads(json_string)\n",
    "\n",
    "#Exibindo as descrições de cada ponto turístico\n",
    "print(\"Descrições dos pontos turísticos:\")\n",
    "for marcador in marcadores_dict[\"marcadores\"]:\n",
    "    print(f'Cidade: {marcador[\"city\"]}, Latitude: {marcador[\"latitude\"]}, Longitude: {marcador[\"longitude\"]}, Descrição: {marcador[\"description\"]}')\n",
    "\n",
    "# Salvando JSON com informações no ficheiro \"marcadores.json\"\n",
    "with open(\"marcadores.json\", \"w\") as file:\n",
    "    json.dump(marcadores_dict, file, indent=4)"
   ]
  },
  {
   "cell_type": "markdown",
   "metadata": {},
   "source": [
    "# Exercício 3"
   ]
  },
  {
   "cell_type": "markdown",
   "metadata": {},
   "source": [
    "#### Criação\n",
    "\n",
    "* Carregue o JSON a seguir em uma lista de dicionários. "
   ]
  },
  {
   "cell_type": "raw",
   "metadata": {},
   "source": [
    "[\n",
    "    {\"nome\": \"João\", \"idade\": 28, \"interesses\": [\"música\", \"futebol\", \"cinema\"]},\n",
    "    {\"nome\": \"Maria\", \"idade\": 34, \"interesses\": [\"literatura\", \"viajar\", \"pintura\"]},\n",
    "    {\"nome\": \"Ana\", \"idade\": 22, \"interesses\": [\"fotografia\", \"moda\", \"tecnologia\"]}\n",
    "]\n"
   ]
  },
  {
   "cell_type": "markdown",
   "metadata": {},
   "source": [
    "* Converta esse conteúdo em um ficheiro CSV com a seguinte estrutura:\n",
    "\n",
    "| Nome  | Idade | Interesse 1   | Interesse 2   | Interesse 3    |\n",
    "|-------|-------|---------------|---------------|----------------|\n",
    "| João  | 28    | música        | futebol       | cinema         |\n",
    "| Maria | 34    | literatura    | viajar        | pintura        |\n",
    "| Ana   | 22    | fotografia    | moda          | tecnologia      |\n",
    "\n",
    "* Salve o ficheiro CSV com o nome \"__usuarios.csv__\".\n",
    "* Depois faça a leitura do conteúdo do ficheiro \"__usuarios.csv__\" para certificar que foi salvo corretamente.x\"__."
   ]
  },
  {
   "cell_type": "code",
   "execution_count": 16,
   "metadata": {},
   "outputs": [
    {
     "name": "stdout",
     "output_type": "stream",
     "text": [
      "['Nome', 'Idade', 'Interesse 1', 'Interesse 2', 'Interesse 3']\n",
      "['João', '28', 'música', 'futebol', 'cinema']\n",
      "['Maria', '34', 'literatura', 'viajar', 'pintura']\n",
      "['Ana', '22', 'fotografia', 'moda', 'tecnologia']\n"
     ]
    }
   ],
   "source": [
    "import json\n",
    "import csv\n",
    "\n",
    "#JSON string\n",
    "json_string = ''' \n",
    "[\n",
    "    {\"nome\": \"João\", \"idade\": 28, \"interesses\": [\"música\", \"futebol\", \"cinema\"]},\n",
    "    {\"nome\": \"Maria\", \"idade\": 34, \"interesses\": [\"literatura\", \"viajar\", \"pintura\"]},\n",
    "    {\"nome\": \"Ana\", \"idade\": 22, \"interesses\": [\"fotografia\", \"moda\", \"tecnologia\"]}\n",
    "]\n",
    "'''\n",
    "\n",
    "# Carregando o JSON em uma lista de dicionarios\n",
    "usuarios = json.loads(json_string)\n",
    "\n",
    "#Nome do ficheiro csv\n",
    "csv_file = \"usuarios.csv\"\n",
    "\n",
    "#Convertendo o conteúdo em um ficheiro CSV\n",
    "with open(csv_file, mode='w', newline='') as file:\n",
    "    writer = csv.writer(file)\n",
    "    #Cabeçalho\n",
    "    writer.writerow([\"Nome\", \"Idade\", \"Interesse 1\", \"Interesse 2\", \"Interesse 3\"])\n",
    "    # Dados\n",
    "    for usuario in usuarios:\n",
    "        row = [usuario[\"nome\"], usuario[\"idade\"]] + usuario[\"interesses\"]\n",
    "        writer.writerow(row)\n",
    "\n",
    "# Lendo o contúdo do ficheiro CSV para certificar que foi salvo corretamente\n",
    "with open(csv_file, mode='r') as file:\n",
    "    reader = csv.reader(file)\n",
    "    for row in reader:\n",
    "        print(row)"
   ]
  },
  {
   "cell_type": "code",
   "execution_count": null,
   "metadata": {},
   "outputs": [],
   "source": []
  }
 ],
 "metadata": {
  "anaconda-cloud": {},
  "kernelspec": {
   "display_name": "Python 3 (ipykernel)",
   "language": "python",
   "name": "python3"
  },
  "language_info": {
   "codemirror_mode": {
    "name": "ipython",
    "version": 3
   },
   "file_extension": ".py",
   "mimetype": "text/x-python",
   "name": "python",
   "nbconvert_exporter": "python",
   "pygments_lexer": "ipython3",
   "version": "3.12.4"
  }
 },
 "nbformat": 4,
 "nbformat_minor": 4
}
